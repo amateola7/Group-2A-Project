{
 "cells": [
  {
   "cell_type": "code",
   "execution_count": null,
   "metadata": {
    "scrolled": true
   },
   "outputs": [],
   "source": [
    "import pandas as pd\n",
    "import numpy as np\n",
    "from sqlalchemy import create_engine\n",
    "\n",
    "import plotly.graph_objs as go\n",
    "import plotly.offline as py\n",
    "\n",
    "from ipywidgets import interactive, HBox, VBox\n",
    "\n",
    "engine = create_engine('sqlite:///HealthIndicatorsData.db')\n",
    "CDC_data = pd.read_sql('cdc_data', con=engine)\n",
    "County_data = pd.read_sql('county_health_rankings_data', con=engine)\n",
    "\n"
   ]
  },
  {
   "cell_type": "code",
   "execution_count": null,
   "metadata": {},
   "outputs": [],
   "source": [
    "# Read in County-Level csv and convert to ready-to-use dataframe.\n",
    "path_to_county_data = './County Level Data for CDC and Rankings.csv'\n",
    "county_df = pd.read_csv(path_to_county_data)\n",
    "county_df.head()"
   ]
  },
  {
   "cell_type": "code",
   "execution_count": null,
   "metadata": {},
   "outputs": [],
   "source": [
    "# Print column names, since you can't see them all above. \n",
    "county_cols = county_df.columns.tolist()\n",
    "county_cols"
   ]
  },
  {
   "cell_type": "code",
   "execution_count": null,
   "metadata": {
    "scrolled": true
   },
   "outputs": [],
   "source": [
    "# Read in State-Level csv and convert to ready-to-use dataframe.\n",
    "path_to_state_data = './State Level Data for CDC and Rankings.csv'\n",
    "state_df = pd.read_csv(path_to_state_data)\n",
    "state_df.head()\n"
   ]
  },
  {
   "cell_type": "code",
   "execution_count": null,
   "metadata": {},
   "outputs": [],
   "source": [
    "# Print column names, since you can't see them all above. \n",
    "state_cols = state_df.columns.tolist()\n",
    "state_cols"
   ]
  },
  {
   "cell_type": "code",
   "execution_count": null,
   "metadata": {},
   "outputs": [],
   "source": [
    "m_overweight_county_df=county_df[['State', 'County', 'FIPS State', 'FIPS County', 'High Cholesterol', 'Cholesterol Screening', 'Obesity CDC', '% Obese', 'Food Environment Index']]"
   ]
  },
  {
   "cell_type": "code",
   "execution_count": null,
   "metadata": {},
   "outputs": [],
   "source": [
    "m_c_and_s_county_df=county_df[['State', 'County', 'FIPS State', 'FIPS County', 'Dentist Rate', 'Teeth Lost', 'High Cholesterol', 'Cholesterol Screening', 'Obesity CDC', '% Obese', 'Food Environment Index']]"
   ]
  },
  {
   "cell_type": "code",
   "execution_count": null,
   "metadata": {},
   "outputs": [],
   "source": []
  },
  {
   "cell_type": "code",
   "execution_count": null,
   "metadata": {},
   "outputs": [],
   "source": []
  },
  {
   "cell_type": "code",
   "execution_count": null,
   "metadata": {},
   "outputs": [],
   "source": [
    "py.init_notebook_mode()\n",
    "\n",
    "df = m_overweight_county_df\n",
    "\n",
    "f = go.FigureWidget([go.Scatter(y = df['% Obese'], x = df['High Cholesterol'], mode = 'markers',\n",
    "                               marker=dict(\n",
    "                               size=8,\n",
    "                               color='rgb(40,186,118)',\n",
    "                               line={'width':1.5}    \n",
    "                               ))])\n",
    "scatter = f.data[0]\n",
    "N = len(df)\n",
    "\n",
    "scatter.marker.opacity = 0.7\n",
    "\n",
    "def update_axes(xaxis, yaxis):\n",
    "    scatter = f.data[0]\n",
    "    scatter.x = df[xaxis]\n",
    "    scatter.y = df[yaxis]\n",
    "    with f.batch_update():\n",
    "        f.layout.xaxis.title = xaxis\n",
    "        f.layout.yaxis.title = yaxis\n",
    "        \n",
    "    \n",
    "axis_dropdowns = interactive(update_axes, yaxis = df.select_dtypes('float').columns, xaxis = df.select_dtypes('float').columns)\n",
    "\n",
    "# Create a table FigureWidget that updates on selection from points in the scatter plot of f\n",
    "t = go.FigureWidget([go.Table(\n",
    "    header=dict(values=['State', 'County', '% Obese','High Cholesterol' ,'Food Environment Index'],\n",
    "                fill = dict(color='#C2D4FF'),\n",
    "                align = ['left'] * 5),\n",
    "    cells=dict(values=[df[col] for col in ['State', 'County', '% Obese','High Cholesterol' ,'Food Environment Index']],\n",
    "               fill = dict(color='#9feb9b'),\n",
    "               align = ['left'] * 5))])\n",
    "\n",
    "def selection_fn(trace,points,selector):\n",
    "    t.data[0].cells.values = [df.loc[points.point_inds][col] for col in ['State', 'County', '% Obese','High Cholesterol' ,'Food Environment Index']]\n",
    "\n",
    "scatter.on_selection(selection_fn)\n",
    "\n",
    "# Put everything together\n",
    "VBox((HBox(axis_dropdowns.children),f,t))"
   ]
  },
  {
   "cell_type": "code",
   "execution_count": null,
   "metadata": {},
   "outputs": [],
   "source": [
    "py.init_notebook_mode()\n",
    "\n",
    "df = m_c_and_s_county_df=county_df\n",
    "\n",
    "f = go.FigureWidget([go.Scatter(y = df['% Obese'], x = df['High Cholesterol'], mode = 'markers',\n",
    "                               marker=dict(\n",
    "                               size=8,\n",
    "                               color='rgb(40,186,118)',\n",
    "                               line={'width':1.5}    \n",
    "                               ))])\n",
    "scatter = f.data[0]\n",
    "N = len(df)\n",
    "\n",
    "scatter.marker.opacity = 0.7\n",
    "\n",
    "def update_axes(xaxis, yaxis):\n",
    "    scatter = f.data[0]\n",
    "    scatter.x = df[xaxis]\n",
    "    scatter.y = df[yaxis]\n",
    "    with f.batch_update():\n",
    "        f.layout.xaxis.title = xaxis\n",
    "        f.layout.yaxis.title = yaxis\n",
    "        \n",
    "    \n",
    "axis_dropdowns = interactive(update_axes, yaxis = df.select_dtypes('float').columns, xaxis = df.select_dtypes('float').columns)\n",
    "\n",
    "# Create a table FigureWidget that updates on selection from points in the scatter plot of f\n",
    "t = go.FigureWidget([go.Table(\n",
    "    header=dict(values=['State', 'County', '% Obese','High Cholesterol' ,'Food Environment Index', 'Dentist Rate', 'Teeth Lost'],\n",
    "                fill = dict(color='#C2D4FF'),\n",
    "                align = ['left'] * 5),\n",
    "    cells=dict(values=[df[col] for col in ['State', 'County', '% Obese','High Cholesterol' ,'Food Environment Index', 'Dentist Rate', 'Teeth Lost']],\n",
    "               fill = dict(color='#9feb9b'),\n",
    "               align = ['left'] * 5))])\n",
    "\n",
    "def selection_fn(trace,points,selector):\n",
    "    t.data[0].cells.values = [df.loc[points.point_inds][col] for col in ['State', 'County', '% Obese','High Cholesterol' ,'Food Environment Index', 'Dentist Rate', 'Teeth Lost']]\n",
    "\n",
    "scatter.on_selection(selection_fn)\n",
    "\n",
    "# Put everything together\n",
    "VBox((HBox(axis_dropdowns.children),f,t))"
   ]
  },
  {
   "cell_type": "code",
   "execution_count": null,
   "metadata": {},
   "outputs": [],
   "source": [
    "import numpy as np\n",
    "import plotly.offline as pyo\n",
    "import plotly.graph_objs as go\n",
    "\n",
    "\n",
    "df=state_df\n",
    "\n",
    "trace1 = go.Bar(x=df['State'],y=df['% Obese-State'], \n",
    "                name='% Obese-State', marker={'color':'#FFD700'})\n",
    "\n",
    "trace2 = go.Bar(x=df['State'],y=df['% Food Insecure-State'], \n",
    "                name='% Food Insecure-State', marker={'color':'#2898BA'})\n",
    "\n",
    "trace3 = go.Bar(x=df['State'],y=df['High Cholesterol-State'], \n",
    "                name='High Cholesterol-State', marker={'color':'#E6970D'})\n",
    "\n",
    "data=[trace1,trace2,trace3]\n",
    "layout = go.Layout(title=\"Obesity Stats\")\n",
    "fig=go.Figure(data=data,layout=layout)\n",
    "pyo.plot(fig)"
   ]
  },
  {
   "cell_type": "code",
   "execution_count": null,
   "metadata": {},
   "outputs": [],
   "source": [
    "import numpy as np\n",
    "import plotly.offline as pyo\n",
    "import plotly.graph_objs as go\n",
    "\n",
    "\n",
    "df=state_df\n",
    "\n",
    "trace1 = go.Bar(x=df['State'],y=df['Dentist Rate-State'], \n",
    "                name='Dentist Rate-State', marker={'color':'#FFD700'})\n",
    "\n",
    "trace2 = go.Bar(x=df['State'],y=df['Teeth Lost-State'], \n",
    "                name='Teeth Lost-State', marker={'color':'#2898BA'})\n",
    "\n",
    "\n",
    "\n",
    "data=[trace1,trace2]\n",
    "layout = go.Layout(title=\"Tooth Lost Stats\")\n",
    "fig=go.Figure(data=data,layout=layout)\n",
    "pyo.plot(fig)"
   ]
  }
 ],
 "metadata": {
  "kernelspec": {
   "display_name": "Python 3",
   "language": "python",
   "name": "python3"
  },
  "language_info": {
   "codemirror_mode": {
    "name": "ipython",
    "version": 3
   },
   "file_extension": ".py",
   "mimetype": "text/x-python",
   "name": "python",
   "nbconvert_exporter": "python",
   "pygments_lexer": "ipython3",
   "version": "3.7.3"
  }
 },
 "nbformat": 4,
 "nbformat_minor": 2
}
